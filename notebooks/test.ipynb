{
 "cells": [
  {
   "cell_type": "code",
   "execution_count": 67,
   "id": "d70d3599-9975-4e03-9fbf-2a2c1ebdd100",
   "metadata": {},
   "outputs": [
    {
     "name": "stdout",
     "output_type": "stream",
     "text": [
      "Waiting for agent message\n",
      "Waiting for agent message\n"
     ]
    },
    {
     "data": {
      "text/plain": [
       "\"I'm sorry to hear about your injury. Brain injuries are complex and require specialized care. It's important to follow the advice of your healthcare provider. However, I can provide some general guidelines for recovery after a brain injury. \\n\\nPlease let me know more details about your injury:\\n1. What type of brain injury did you sustain (e.g., concussion, stroke, traumatic brain injury)?\\n2. How severe is the injury?\\n3. How many days have passed since the injury occurred?\\n4. Are there any specific symptoms or limitations you are experiencing?\\n\\nThis information will help me tailor a recovery plan that suits your needs.\""
      ]
     },
     "execution_count": 67,
     "metadata": {},
     "output_type": "execute_result"
    }
   ],
   "source": [
    "import requests\n",
    "\n",
    "project_id = \"d3724316f161-4d3e-ba20-5bf617b83967\" # Can be found in the API Keys page\n",
    "authorization_token = f\"d3724316f161-4d3e-ba20-5bf617b83967:sk-YWE1MTQxOWYtN2Y2Yi00OGE4LTkxYWEtNWU2NTJmOTdjOTQw\"   # Both values can be found in the API Keys page\n",
    "region = \"f1db6c\"       # Can be found in the API Keys page\n",
    "base_url = f\"https://api-{region}.stack.tryrelevance.com/latest\"\n",
    "headers = {\n",
    "  \"Authorization\": authorization_token,\n",
    "}\n",
    "\n",
    "\n",
    "\n",
    "from time import sleep\n",
    "\n",
    "\n",
    "\n",
    "def get_agent_response(agent_id : str, prompt : str) -> str:\n",
    "    \"\"\"\n",
    "    Get response from Relevance.ai agent.\n",
    "    \"\"\"\n",
    "\n",
    "    # start conversation with agent\n",
    "    trigger_response = requests.post(\n",
    "      base_url + \"/agents/trigger\", \n",
    "     headers=headers, \n",
    "      json={\n",
    "        \"message\":{\n",
    "          \"role\":\"user\",\n",
    "          \"content\":prompt\n",
    "        },\n",
    "        \"agent_id\":agent_id\n",
    "      }\n",
    "    )\n",
    "    \n",
    "    job = trigger_response.json()\n",
    "    \n",
    "    conversation_id = job['conversation_id']\n",
    "    \n",
    "    \n",
    "    \n",
    "    role = None\n",
    "    \n",
    "    while not role == 'agent':\n",
    "        sleep(1)\n",
    "        print('Waiting for agent message')\n",
    "        \n",
    "        # Send the POST request\n",
    "        response = requests.post(\n",
    "          base_url + \"/knowledge/list\", \n",
    "          headers=headers, \n",
    "          json={\n",
    "            \"knowledge_set\": conversation_id,\n",
    "            \"filters\": [],\n",
    "            \"sort\": [\n",
    "              {\n",
    "                \"insert_date_\": \"desc\"\n",
    "              }\n",
    "            ]\n",
    "          }\n",
    "        )\n",
    "    \n",
    "        conversation_messages = response.json()[\"results\"]\n",
    "    \n",
    "        message = conversation_messages[0]['data']['message']\n",
    "        \n",
    "        role = message['role']\n",
    "        content = message['content']\n",
    "    \n",
    "    return content\n",
    "\n",
    "\n",
    "agent_id = 'a4dcef11-857a-48aa-ba91-95a3df092226'\n",
    "prompt = \"Hello! I hurt my left brain\"\n",
    "\n",
    "\n",
    "\n",
    "get_agent_response(agent_id, prompt) \n"
   ]
  },
  {
   "cell_type": "code",
   "execution_count": 62,
   "id": "7a96611f-6dab-4c00-9af7-e0c99c5f617a",
   "metadata": {},
   "outputs": [
    {
     "name": "stdout",
     "output_type": "stream",
     "text": [
      "Waiting for agent message\n",
      "agent I'm sorry to hear about your hamstring injury. A pulled hamstring can be quite painful and requires careful management to ensure proper healing. Here's a step-by-step recovery plan for the next two weeks. Please note that if you experience any severe pain or discomfort, you should consult a healthcare professional.\n",
      "\n",
      "### Week 1: Initial Recovery and Gentle Exercises\n",
      "\n",
      "**Days 1-3: Rest and Care**\n",
      "- **Rest:** Avoid any activities that strain the hamstring.\n",
      "- **Ice:** Apply ice packs to the affected area for 15-20 minutes every 2-3 hours to reduce swelling.\n",
      "- **Compression:** Use a compression bandage to help reduce swelling.\n",
      "- **Elevation:** Keep the leg elevated to reduce swelling.\n",
      "\n",
      "**Days 4-7: Gentle Stretching and Mobility**\n",
      "- **Hamstring Stretch (Seated):** \n",
      "  - Sit on the floor with your legs extended.\n",
      "  - Gently reach towards your toes until you feel a mild stretch in the hamstring.\n",
      "  - Hold for 15-20 seconds and repeat 3 times.\n",
      "- **Heel Slides:**\n",
      "  - Lie on your back with your legs straight.\n",
      "  - Slowly slide the heel of the injured leg towards your buttocks, bending the knee.\n",
      "  - Slide back to the starting position.\n",
      "  - Repeat 10 times.\n",
      "\n",
      "### Week 2: Gradual Strengthening and Increased Mobility\n",
      "\n",
      "**Days 8-10: Light Strengthening**\n",
      "- **Hamstring Curls (Standing):**\n",
      "  - Stand with your weight on your uninjured leg.\n",
      "  - Slowly bend the knee of the injured leg, bringing your heel towards your buttocks.\n",
      "  - Hold for a moment and then lower back down.\n",
      "  - Repeat 10 times.\n",
      "- **Bridges:**\n",
      "  - Lie on your back with your knees bent and feet flat on the floor.\n",
      "  - Lift your hips towards the ceiling, squeezing your glutes and hamstrings.\n",
      "  - Hold for 5 seconds and then lower back down.\n",
      "  - Repeat 10 times.\n",
      "\n",
      "**Days 11-14: Advanced Strengthening and Flexibility**\n",
      "- **Single-Leg Deadlifts:**\n",
      "  - Stand on your uninjured leg, keeping a slight bend in the knee.\n",
      "  - Slowly hinge at the hips, extending the injured leg behind you.\n",
      "  - Return to the starting position.\n",
      "  - Repeat 10 times.\n",
      "- **Hamstring Stretch (Standing):**\n",
      "  - Stand with your injured leg extended in front of you, resting on a low surface.\n",
      "  - Gently lean forward until you feel a stretch in the hamstring.\n",
      "  - Hold for 20-30 seconds and repeat 3 times.\n",
      "\n",
      "### Important Notes:\n",
      "- **Listen to Your Body:** If any exercise causes significant pain, stop immediately.\n",
      "- **Gradual Progression:** Increase the intensity and duration of exercises gradually.\n",
      "- **Hydration and Nutrition:** Stay hydrated and maintain a balanced diet to support healing.\n",
      "\n",
      "If you follow this plan and still experience significant pain or if the injury does not seem to be improving, please seek medical advice.\n"
     ]
    }
   ],
   "source": []
  },
  {
   "cell_type": "code",
   "execution_count": 51,
   "id": "dedafca6-7796-42cf-891b-3e7368ec419d",
   "metadata": {},
   "outputs": [
    {
     "name": "stdout",
     "output_type": "stream",
     "text": [
      "I'm sorry to hear about your hamstring injury. Let's start by gathering some more details so I can create the best recovery plan for you:\n",
      "\n",
      "1. **Which area of the hamstring is affected?** (e.g., upper, middle, lower)\n",
      "2. **How severe is the injury?** (e.g., mild strain, moderate strain, severe tear)\n",
      "3. **When did the injury occur?**\n",
      "4. **Are you currently in pain? If so, how would you rate your pain on a scale of 1 to 10?**\n",
      "\n",
      "Additionally, could you tell me a bit about your hobbies, interests, and how you usually spend your time? This will help me understand how the injury might be affecting your daily life and how we can keep things feeling as normal as possible for you.\n"
     ]
    }
   ],
   "source": [
    "print(conversation_messages[0]['data']['message']['content'])"
   ]
  },
  {
   "cell_type": "code",
   "execution_count": 68,
   "id": "3c74069b-e277-45b5-a711-baa8c4ccdfc1",
   "metadata": {},
   "outputs": [
    {
     "name": "stdout",
     "output_type": "stream",
     "text": [
      "{\n",
      "  \"rehab-plan-message\": \"You're doing great! Let's continue to build on your progress.\",\n",
      "  \"rehab-plan-exercise\": {\n",
      "    \"Deep Breathing Exercises\": {\n",
      "      \"reason\": \"To improve oxygen flow to the brain and promote relaxation.\",\n",
      "      \"description\": \"Sit or lie down in a comfortable position. Inhale deeply through your nose, hold for a few seconds, and then exhale slowly through your mouth. Repeat.\",\n",
      "      \"number of sets\": 3,\n",
      "      \"number of reps\": 10\n",
      "    },\n",
      "    \"Neck Stretches\": {\n",
      "      \"reason\": \"To relieve tension and improve blood circulation to the brain.\",\n",
      "      \"description\": \"Gently tilt your head towards your shoulder and hold for 15-20 seconds. Repeat on the other side.\",\n",
      "      \"number of sets\": 3,\n",
      "      \"number of reps\": 5\n",
      "    },\n",
      "    \"Seated Marching\": {\n",
      "      \"reason\": \"To improve blood circulation and maintain lower body strength.\",\n",
      "      \"description\": \"While seated, lift your knees alternately as if you are marching. Keep your back straight and engage your core.\",\n",
      "      \"number of sets\": 3,\n",
      "      \"number of reps\": 15\n",
      "    }\n",
      "  },\n",
      "  \"rehab-advice\": \"Continue to monitor your pain levels and mental wellness. Ensure you are getting adequate rest and hydration. Avoid any strenuous activities and follow your doctor's advice.\",\n",
      "  \"motivational-quote\": \"The journey of a thousand miles begins with one step. - Lao Tzu\"\n",
      "}\n"
     ]
    }
   ],
   "source": [
    "import re\n",
    "import json\n",
    "\n",
    "def clean_json(input_str):\n",
    "    # Use regex to find the JSON content within the input string\n",
    "    match = re.search(r'\\{.*\\}', input_str, re.DOTALL)\n",
    "    if match:\n",
    "        json_str = match.group(0)\n",
    "        try:\n",
    "            # Parse the cleaned JSON string to ensure it's valid\n",
    "            json_data = json.loads(json_str)\n",
    "            return json_data\n",
    "        except json.JSONDecodeError as e:\n",
    "            print(f\"Error decoding JSON: {e}\")\n",
    "            return None\n",
    "    else:\n",
    "        print(\"No valid JSON found\")\n",
    "        return None\n",
    "\n",
    "# Example usage\n",
    "input_str = \"\"\"\n",
    "some random text\n",
    "{\n",
    "  \"rehab-plan-message\": \"You're doing great! Let's continue to build on your progress.\",\n",
    "  \"rehab-plan-exercise\": {\n",
    "    \"Deep Breathing Exercises\": {\n",
    "      \"reason\": \"To improve oxygen flow to the brain and promote relaxation.\",\n",
    "      \"description\": \"Sit or lie down in a comfortable position. Inhale deeply through your nose, hold for a few seconds, and then exhale slowly through your mouth. Repeat.\",\n",
    "      \"number of sets\": 3,\n",
    "      \"number of reps\": 10\n",
    "    },\n",
    "    \"Neck Stretches\": {\n",
    "      \"reason\": \"To relieve tension and improve blood circulation to the brain.\",\n",
    "      \"description\": \"Gently tilt your head towards your shoulder and hold for 15-20 seconds. Repeat on the other side.\",\n",
    "      \"number of sets\": 3,\n",
    "      \"number of reps\": 5\n",
    "    },\n",
    "    \"Seated Marching\": {\n",
    "      \"reason\": \"To improve blood circulation and maintain lower body strength.\",\n",
    "      \"description\": \"While seated, lift your knees alternately as if you are marching. Keep your back straight and engage your core.\",\n",
    "      \"number of sets\": 3,\n",
    "      \"number of reps\": 15\n",
    "    }\n",
    "  },\n",
    "  \"rehab-advice\": \"Continue to monitor your pain levels and mental wellness. Ensure you are getting adequate rest and hydration. Avoid any strenuous activities and follow your doctor's advice.\",\n",
    "  \"motivational-quote\": \"The journey of a thousand miles begins with one step. - Lao Tzu\"\n",
    "}\n",
    "some other random text\n",
    "\"\"\"\n",
    "\n",
    "cleaned_json = clean_json(input_str)\n",
    "if cleaned_json:\n",
    "    print(json.dumps(cleaned_json, indent=2))\n"
   ]
  },
  {
   "cell_type": "code",
   "execution_count": 69,
   "id": "742ea6e6-ee17-43ad-94a9-22ff40558b09",
   "metadata": {},
   "outputs": [
    {
     "data": {
      "text/plain": [
       "dict"
      ]
     },
     "execution_count": 69,
     "metadata": {},
     "output_type": "execute_result"
    }
   ],
   "source": [
    "type(cleaned_json)"
   ]
  },
  {
   "cell_type": "code",
   "execution_count": null,
   "id": "b077c48b-6eaf-41ef-98d2-d85769f9ef0f",
   "metadata": {},
   "outputs": [],
   "source": []
  }
 ],
 "metadata": {
  "kernelspec": {
   "display_name": "Python 3 (ipykernel)",
   "language": "python",
   "name": "python3"
  },
  "language_info": {
   "codemirror_mode": {
    "name": "ipython",
    "version": 3
   },
   "file_extension": ".py",
   "mimetype": "text/x-python",
   "name": "python",
   "nbconvert_exporter": "python",
   "pygments_lexer": "ipython3",
   "version": "3.11.9"
  }
 },
 "nbformat": 4,
 "nbformat_minor": 5
}
