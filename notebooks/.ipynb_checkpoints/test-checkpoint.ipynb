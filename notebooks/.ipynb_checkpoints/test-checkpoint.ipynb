{
 "cells": [
  {
   "cell_type": "code",
   "execution_count": 48,
   "id": "d70d3599-9975-4e03-9fbf-2a2c1ebdd100",
   "metadata": {},
   "outputs": [
    {
     "name": "stdout",
     "output_type": "stream",
     "text": [
      "{'conversation_id': '154a39ad-d8b3-4eee-940b-830c732d9c18', 'job_info': {'studio_id': 'agent_empty_chain_inline', 'job_id': '1e6973f6-a473-4976-9a5c-b7c988a72018'}, 'agent_id': 'a4dcef11-857a-48aa-ba91-95a3df092226', 'state': 'starting-up'}\n"
     ]
    }
   ],
   "source": [
    "import requests\n",
    "\n",
    "project_id = \"d3724316f161-4d3e-ba20-5bf617b83967\" # Can be found in the API Keys page\n",
    "authorization_token = f\"d3724316f161-4d3e-ba20-5bf617b83967:sk-YWE1MTQxOWYtN2Y2Yi00OGE4LTkxYWEtNWU2NTJmOTdjOTQw\"   # Both values can be found in the API Keys page\n",
    "region = \"f1db6c\"       # Can be found in the API Keys page\n",
    "base_url = f\"https://api-{region}.stack.tryrelevance.com/latest\"\n",
    "headers = {\n",
    "  \"Authorization\": authorization_token,\n",
    "}\n",
    "\n",
    "\n",
    "agent_id = 'a4dcef11-857a-48aa-ba91-95a3df092226'\n",
    "\n",
    "trigger_response = requests.post(\n",
    "  base_url + \"/agents/trigger\", \n",
    " headers=headers, \n",
    "  json={\n",
    "    \"message\":{\n",
    "      \"role\":\"user\",\n",
    "      \"content\":\"Hello, I pulled my hamstring. It hurts a lot. Generate a recovery exercise plan for the next two weeks \"\n",
    "    },\n",
    "    \"agent_id\":agent_id\n",
    "  }\n",
    ")\n",
    "\n",
    "# print(trigger_response, trigger_response.content)\n",
    "\n",
    "job = trigger_response.json()\n",
    "\n",
    "conversation_id = job['conversation_id']\n",
    "print(job)"
   ]
  },
  {
   "cell_type": "code",
   "execution_count": 50,
   "id": "7a96611f-6dab-4c00-9af7-e0c99c5f617a",
   "metadata": {},
   "outputs": [
    {
     "data": {
      "text/plain": [
       "[{'_id': 'd3724316f161-4d3e-ba20-5bf617b83967_-_154a39ad-d8b3-4eee-940b-830c732d9c18_-_3db4b72e-10f4-42d2-adf7-0860227fd7d3_-_default',\n",
       "  'alias': 'default',\n",
       "  'data': {'message': {'content': \"I'm sorry to hear about your hamstring injury. Let's start by gathering some more details so I can create the best recovery plan for you:\\n\\n1. **Which area of the hamstring is affected?** (e.g., upper, middle, lower)\\n2. **How severe is the injury?** (e.g., mild strain, moderate strain, severe tear)\\n3. **When did the injury occur?**\\n4. **Are you currently in pain? If so, how would you rate your pain on a scale of 1 to 10?**\\n\\nAdditionally, could you tell me a bit about your hobbies, interests, and how you usually spend your time? This will help me understand how the injury might be affecting your daily life and how we can keep things feeling as normal as possible for you.\",\n",
       "    'generating': False,\n",
       "    'role': 'agent'},\n",
       "   'metadata': None,\n",
       "   'user_id': '2abe454d-fbce-45de-9d50-50c39ecfe1f6'},\n",
       "  'document_id': '3db4b72e-10f4-42d2-adf7-0860227fd7d3',\n",
       "  'insert_date_': '2024-06-08T02:51:09.825Z',\n",
       "  'knowledge_set': '154a39ad-d8b3-4eee-940b-830c732d9c18',\n",
       "  'project': 'd3724316f161-4d3e-ba20-5bf617b83967',\n",
       "  'tags': {'conversation': {'agent_id': 'a4dcef11-857a-48aa-ba91-95a3df092226'},\n",
       "   'split_method': {'num_tokens': 128,\n",
       "    'split_chunk': 'sentence',\n",
       "    'type': 'num_tokens'}},\n",
       "  'update_date_': '2024-06-08T02:51:09.825Z'},\n",
       " {'_id': 'd3724316f161-4d3e-ba20-5bf617b83967_-_154a39ad-d8b3-4eee-940b-830c732d9c18_-_38472972-c9a6-45ad-ac69-31478c9aef7a_-_default',\n",
       "  'alias': 'default',\n",
       "  'data': {'message': {'content': 'Hello, I pulled my hamstring. It hurts a lot. Generate a recovery exercise plan for the next two weeks ',\n",
       "    'role': 'user'},\n",
       "   'metadata': {'is_trigger_message': True},\n",
       "   'user_id': '2abe454d-fbce-45de-9d50-50c39ecfe1f6'},\n",
       "  'document_id': '38472972-c9a6-45ad-ac69-31478c9aef7a',\n",
       "  'insert_date_': '2024-06-08T02:51:07.131Z',\n",
       "  'knowledge_set': '154a39ad-d8b3-4eee-940b-830c732d9c18',\n",
       "  'project': 'd3724316f161-4d3e-ba20-5bf617b83967',\n",
       "  'tags': {'conversation': {'agent_id': 'a4dcef11-857a-48aa-ba91-95a3df092226'},\n",
       "   'split_method': {'num_tokens': 128,\n",
       "    'split_chunk': 'sentence',\n",
       "    'type': 'num_tokens'}},\n",
       "  'update_date_': '2024-06-08T02:51:07.131Z'},\n",
       " {'_id': 'd3724316f161-4d3e-ba20-5bf617b83967_-_154a39ad-d8b3-4eee-940b-830c732d9c18_-_df528c82-8854-47cb-a823-a109bcc03d37_-_default',\n",
       "  'alias': 'default',\n",
       "  'data': {'message': {'content': \"Hi welcome I'm HealBot, let me know what your injury is and I am here to help!\",\n",
       "    'role': 'agent'},\n",
       "   'metadata': {'is_starting_message': True, 'welcome_message': True},\n",
       "   'user_id': '2abe454d-fbce-45de-9d50-50c39ecfe1f6'},\n",
       "  'document_id': 'df528c82-8854-47cb-a823-a109bcc03d37',\n",
       "  'insert_date_': '2024-06-08T02:51:07.102Z',\n",
       "  'knowledge_set': '154a39ad-d8b3-4eee-940b-830c732d9c18',\n",
       "  'project': 'd3724316f161-4d3e-ba20-5bf617b83967',\n",
       "  'tags': {'conversation': {'agent_id': 'a4dcef11-857a-48aa-ba91-95a3df092226'},\n",
       "   'split_method': {'num_tokens': 128,\n",
       "    'split_chunk': 'sentence',\n",
       "    'type': 'num_tokens'}},\n",
       "  'update_date_': '2024-06-08T02:51:07.102Z'},\n",
       " {'_id': 'd3724316f161-4d3e-ba20-5bf617b83967_-_154a39ad-d8b3-4eee-940b-830c732d9c18_-_2ccb789e-4929-44e0-a1bc-5ff113fe005f_-_default',\n",
       "  'alias': 'default',\n",
       "  'data': {'message': {'content': 'YOU ALWAYS FOLLOW THIS PROCEDURE AFTER RECEIVING A TASK:\\n[{\"action\":\"\"},{\"action\":\"Ask questions until you have all the details of the injury: which area of the body, how severe, how recent.\\\\nAsk the user if they are currently in pain and give them immediate remedies\",\"if\":[{\"is\":\"Injury has happened within the last two weeks\",\"then\":[{\"action\":\"Ask about their hobbies, interests, how they spend their time and then write a short, concise and empathetic response which details how these activities may be affected and what methods the patient can use to ensure their life keeps feeling normal\"},{\"action\":\"Create a step-by-step bulleted list of the three best exercises to treat the injury\\\\nExplain your reasoning for each exercise and include how many sets and reps for each.\"}]},{\"is\":\"Injury has happened more than two weeks ago\",\"then\":[{\"action\":\"Ask about how the recovery process has been so far, have they been to a doctor? How did they find it? Give a candid reply. Offer solutions to any problems they may have encountered.\"}]}]}]',\n",
       "    'importance_level': 'short-term-memory',\n",
       "    'role': 'user'},\n",
       "   'metadata': {'is_flow_configuration': True,\n",
       "    'is_starting_message': True,\n",
       "    'should_hide_in_frontend': True},\n",
       "   'user_id': '2abe454d-fbce-45de-9d50-50c39ecfe1f6'},\n",
       "  'document_id': '2ccb789e-4929-44e0-a1bc-5ff113fe005f',\n",
       "  'insert_date_': '2024-06-08T02:51:07.102Z',\n",
       "  'knowledge_set': '154a39ad-d8b3-4eee-940b-830c732d9c18',\n",
       "  'project': 'd3724316f161-4d3e-ba20-5bf617b83967',\n",
       "  'tags': {'conversation': {'agent_id': 'a4dcef11-857a-48aa-ba91-95a3df092226'},\n",
       "   'split_method': {'num_tokens': 128,\n",
       "    'split_chunk': 'sentence',\n",
       "    'type': 'num_tokens'}},\n",
       "  'update_date_': '2024-06-08T02:51:07.102Z'}]"
      ]
     },
     "execution_count": 50,
     "metadata": {},
     "output_type": "execute_result"
    }
   ],
   "source": [
    "\n",
    "# filters = [\n",
    "#   {\n",
    "#     \"filter_type\": \"exact_match\",\n",
    "#     \"field\": \"type\",\n",
    "#     \"condition_value\": \"conversation\",\n",
    "#   },\n",
    "#   {\n",
    "#     \"filter_type\": \"exact_match\",\n",
    "#     \"field\": \"conversation.agent_id\",\n",
    "#     \"condition_value\": agent_id\n",
    "#   }\n",
    "# ]\n",
    "# # Send the POST request\n",
    "# response = requests.post(\n",
    "#   base_url+\"/knowledge/sets/list\", \n",
    "#   headers=headers, \n",
    "#   json={\n",
    "#     \"filters\":filters, \"include_hidden\":True\n",
    "#   }\n",
    "# )\n",
    "\n",
    "# response.json()[\"results\"]\n",
    "\n",
    "\n",
    "# Send the POST request\n",
    "response = requests.post(\n",
    "  base_url + \"/knowledge/list\", \n",
    "  headers=headers, \n",
    "  json={\n",
    "    \"knowledge_set\": conversation_id,\n",
    "    \"filters\": [],\n",
    "    \"sort\": [\n",
    "      {\n",
    "        \"insert_date_\": \"desc\"\n",
    "      }\n",
    "    ]\n",
    "  }\n",
    ")\n",
    "\n",
    "response.raise_for_status()\n",
    "\n",
    "conversation_messages = response.json()[\"results\"]\n",
    "conversation_messages"
   ]
  },
  {
   "cell_type": "code",
   "execution_count": 51,
   "id": "dedafca6-7796-42cf-891b-3e7368ec419d",
   "metadata": {},
   "outputs": [
    {
     "name": "stdout",
     "output_type": "stream",
     "text": [
      "I'm sorry to hear about your hamstring injury. Let's start by gathering some more details so I can create the best recovery plan for you:\n",
      "\n",
      "1. **Which area of the hamstring is affected?** (e.g., upper, middle, lower)\n",
      "2. **How severe is the injury?** (e.g., mild strain, moderate strain, severe tear)\n",
      "3. **When did the injury occur?**\n",
      "4. **Are you currently in pain? If so, how would you rate your pain on a scale of 1 to 10?**\n",
      "\n",
      "Additionally, could you tell me a bit about your hobbies, interests, and how you usually spend your time? This will help me understand how the injury might be affecting your daily life and how we can keep things feeling as normal as possible for you.\n"
     ]
    }
   ],
   "source": [
    "print(conversation_messages[0]['data']['message']['content'])"
   ]
  },
  {
   "cell_type": "code",
   "execution_count": null,
   "id": "3c74069b-e277-45b5-a711-baa8c4ccdfc1",
   "metadata": {},
   "outputs": [],
   "source": []
  }
 ],
 "metadata": {
  "kernelspec": {
   "display_name": "Python 3 (ipykernel)",
   "language": "python",
   "name": "python3"
  },
  "language_info": {
   "codemirror_mode": {
    "name": "ipython",
    "version": 3
   },
   "file_extension": ".py",
   "mimetype": "text/x-python",
   "name": "python",
   "nbconvert_exporter": "python",
   "pygments_lexer": "ipython3",
   "version": "3.11.9"
  }
 },
 "nbformat": 4,
 "nbformat_minor": 5
}
